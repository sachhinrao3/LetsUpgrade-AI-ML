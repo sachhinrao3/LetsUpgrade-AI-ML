{
 "cells": [
  {
   "cell_type": "markdown",
   "metadata": {},
   "source": [
    "# 1. Create a 3x3x3 array with random values "
   ]
  },
  {
   "cell_type": "code",
   "execution_count": 1,
   "metadata": {},
   "outputs": [
    {
     "data": {
      "text/plain": [
       "array([1.02335385, 2.33873444, 2.00753256])"
      ]
     },
     "execution_count": 1,
     "metadata": {},
     "output_type": "execute_result"
    }
   ],
   "source": [
    "import numpy as np\n",
    "np.random.uniform((3,3,3))"
   ]
  },
  {
   "cell_type": "markdown",
   "metadata": {},
   "source": [
    "# 2.Create a 5x5 matrix with values 1,2,3,4 just below the diagonal"
   ]
  },
  {
   "cell_type": "code",
   "execution_count": 2,
   "metadata": {},
   "outputs": [
    {
     "name": "stdout",
     "output_type": "stream",
     "text": [
      "[[0 0 0 0 0]\n",
      " [1 0 0 0 0]\n",
      " [0 2 0 0 0]\n",
      " [0 0 3 0 0]\n",
      " [0 0 0 4 0]]\n"
     ]
    }
   ],
   "source": [
    "ar = np.diag(1+np.arange(4), k=-1)\n",
    "print(ar)"
   ]
  },
  {
   "cell_type": "markdown",
   "metadata": {},
   "source": [
    "# 3.Create a 8x8 matrix and fill it with a checkerboard pattern"
   ]
  },
  {
   "cell_type": "code",
   "execution_count": 3,
   "metadata": {},
   "outputs": [
    {
     "name": "stdout",
     "output_type": "stream",
     "text": [
      "8*8 Checker pattern matrix: \n",
      " [[0 1 0 1 0 1 0 1]\n",
      " [1 0 1 0 1 0 1 0]\n",
      " [0 1 0 1 0 1 0 1]\n",
      " [1 0 1 0 1 0 1 0]\n",
      " [0 1 0 1 0 1 0 1]\n",
      " [1 0 1 0 1 0 1 0]\n",
      " [0 1 0 1 0 1 0 1]\n",
      " [1 0 1 0 1 0 1 0]]\n"
     ]
    }
   ],
   "source": [
    "a = np.zeros((8,8), dtype = int)\n",
    "a[1::2, ::2] = 1\n",
    "a[::2, 1::2] = 1\n",
    "print('8*8 Checker pattern matrix: \\n', a)"
   ]
  },
  {
   "cell_type": "markdown",
   "metadata": {},
   "source": [
    "# 4. Normalize a 5x5 random matrix"
   ]
  },
  {
   "cell_type": "code",
   "execution_count": 4,
   "metadata": {},
   "outputs": [
    {
     "name": "stdout",
     "output_type": "stream",
     "text": [
      "Random Array:\n",
      " [[0.78710701 0.87776635 0.90594758 0.49098375 0.17397746]\n",
      " [0.89135674 0.10961157 0.77021755 0.40552984 0.32235626]\n",
      " [0.47582518 0.68378176 0.88494365 0.20259534 0.66782723]\n",
      " [0.8972366  0.64503771 0.83729255 0.38494746 0.83655837]\n",
      " [0.39483534 0.71148032 0.92724227 0.87614053 0.813536  ]]\n",
      "\n",
      " Normalized Matrix: \n",
      " [[0.82860812 0.93948867 0.97395562 0.46643574 0.07872245]\n",
      " [0.95611035 0.         0.80795154 0.36192167 0.26019655]\n",
      " [0.44789612 0.70223659 0.94826684 0.11372343 0.68272347]\n",
      " [0.96330169 0.65485082 0.88998736 0.33674847 0.88908942]\n",
      " [0.3488418  0.7361132  1.         0.93750022 0.860932  ]]\n"
     ]
    }
   ],
   "source": [
    "ar = np.random.random((5,5))\n",
    "print('Random Array:\\n', ar)\n",
    "nm = (ar - ar.min())/ (ar.max() - ar.min())\n",
    "print('\\n Normalized Matrix: \\n', nm)"
   ]
  },
  {
   "cell_type": "markdown",
   "metadata": {},
   "source": [
    "# 5.  How to find common values between two arrays?"
   ]
  },
  {
   "cell_type": "markdown",
   "metadata": {},
   "source": [
    "__We can find common values between two arrays by np.equal() method or can simply equate both arrays but must have same size array, both gives same results.__ \n",
    "\n",
    "__We get True if values are equal and else false.__"
   ]
  },
  {
   "cell_type": "code",
   "execution_count": 5,
   "metadata": {},
   "outputs": [
    {
     "name": "stdout",
     "output_type": "stream",
     "text": [
      "[ True  True  True False False  True]\n",
      "[ True  True  True False False  True]\n"
     ]
    }
   ],
   "source": [
    "a = np.array([1,2,3,4,5,6])\n",
    "b = np.array([1,2,3,7,9,6])\n",
    "eq = np.equal(a,b)\n",
    "print(eq)\n",
    "e = (a==b)\n",
    "print(e)"
   ]
  },
  {
   "cell_type": "markdown",
   "metadata": {},
   "source": [
    "__If we have both 1D Array and we want to fihnd common values instead of True and False we can use np.intersect1d() method to find common values between two arrays.__"
   ]
  },
  {
   "cell_type": "code",
   "execution_count": 6,
   "metadata": {},
   "outputs": [
    {
     "name": "stdout",
     "output_type": "stream",
     "text": [
      "[1 2 3 6]\n"
     ]
    }
   ],
   "source": [
    "a = np.array([1,2,3,4,5,6])\n",
    "b = np.array([1,2,3,7,9,6])\n",
    "print(np.intersect1d(a,b))"
   ]
  },
  {
   "cell_type": "markdown",
   "metadata": {},
   "source": [
    "# 6.How to get the dates of yesterday, today and tomorrow?"
   ]
  },
  {
   "cell_type": "code",
   "execution_count": 7,
   "metadata": {},
   "outputs": [
    {
     "name": "stdout",
     "output_type": "stream",
     "text": [
      "Yesterday:\t 2020-07-27\n",
      "Today:\t\t 2020-07-28\n",
      "Tomorrow:\t 2020-07-29\n"
     ]
    }
   ],
   "source": [
    "yesterday = np.datetime64('today','D') - np.timedelta64(1,'D')\n",
    "print('Yesterday:\\t', yesterday)\n",
    "today = np.datetime64('Today', 'D')\n",
    "print('Today:\\t\\t', today)\n",
    "tomorrow = np.datetime64('today','D') + np.timedelta64(1,'D')\n",
    "print('Tomorrow:\\t', tomorrow)"
   ]
  },
  {
   "cell_type": "markdown",
   "metadata": {},
   "source": [
    "# 7. Consider two random array A and B, check if they are equal"
   ]
  },
  {
   "cell_type": "code",
   "execution_count": 8,
   "metadata": {},
   "outputs": [
    {
     "name": "stdout",
     "output_type": "stream",
     "text": [
      "Check Random array A and B are equal or not: False\n"
     ]
    }
   ],
   "source": [
    "arA = np.random.random((4,5))\n",
    "arB = np.random.random((4,5))\n",
    "equal = np.allclose(arA,arB)\n",
    "print('Check Random array A and B are equal or not:',equal)"
   ]
  },
  {
   "cell_type": "markdown",
   "metadata": {},
   "source": [
    "# 8.Create random vector of size 10 and replace the maximum value by 0 "
   ]
  },
  {
   "cell_type": "code",
   "execution_count": 9,
   "metadata": {},
   "outputs": [
    {
     "name": "stdout",
     "output_type": "stream",
     "text": [
      "Original Array:\n",
      " [0.10556138 0.70283546 0.67443528 0.38000744 0.11972276 0.22897129\n",
      " 0.65723036 0.11167455 0.26514875 0.28981564]\n",
      "Max number: 0.7028354620941567\n",
      "After replacing max value of array with 0:\n",
      " [0.10556138 0.         0.67443528 0.38000744 0.11972276 0.22897129\n",
      " 0.65723036 0.11167455 0.26514875 0.28981564]\n"
     ]
    }
   ],
   "source": [
    "ar = np.random.random(10)\n",
    "print('Original Array:\\n',ar)\n",
    "t = ar.max()\n",
    "print('Max number:',t)\n",
    "re = np.where(ar==t)\n",
    "ar[re] = 0\n",
    "print('After replacing max value of array with 0:\\n',ar)"
   ]
  },
  {
   "cell_type": "markdown",
   "metadata": {},
   "source": [
    "__Another method to replace maximum value of random vector by 0. By simply np.argmax() method which return index value of maximum value in array.__"
   ]
  },
  {
   "cell_type": "code",
   "execution_count": 10,
   "metadata": {},
   "outputs": [
    {
     "name": "stdout",
     "output_type": "stream",
     "text": [
      "[0.86463734 0.72192201 0.         0.62873931 0.89581674 0.44940208\n",
      " 0.86310663 0.27704623 0.75815774 0.61767188]\n"
     ]
    }
   ],
   "source": [
    "Z = np.random.random(10)\n",
    "Z[Z.argmax()] = 0\n",
    "print(Z)\n"
   ]
  },
  {
   "cell_type": "markdown",
   "metadata": {},
   "source": [
    "# 9. How to print all the values of an array?"
   ]
  },
  {
   "cell_type": "code",
   "execution_count": 11,
   "metadata": {},
   "outputs": [
    {
     "name": "stdout",
     "output_type": "stream",
     "text": [
      "Original Array:\n",
      " [[ 1  2  3  4]\n",
      " [ 3  4  5  6]\n",
      " [ 4  7  9 10]]\n",
      "1\n",
      "2\n",
      "3\n",
      "4\n",
      "3\n",
      "4\n",
      "5\n",
      "6\n",
      "4\n",
      "7\n",
      "9\n",
      "10\n"
     ]
    }
   ],
   "source": [
    "a = np.array([[1,2,3,4],[3,4,5,6],[4,7,9,10]])\n",
    "print('Original Array:\\n', a)\n",
    "for i in range(len(a)):\n",
    "    for j in a[i]:\n",
    "        print(j)"
   ]
  },
  {
   "cell_type": "markdown",
   "metadata": {},
   "source": [
    "# 10.Subtract the mean of each row of a matrix"
   ]
  },
  {
   "cell_type": "code",
   "execution_count": 12,
   "metadata": {},
   "outputs": [
    {
     "name": "stdout",
     "output_type": "stream",
     "text": [
      "[[ 1  2  3  4]\n",
      " [ 4  5  6  7]\n",
      " [ 4  8  9  7]\n",
      " [ 5  7  9 12]]\n",
      "Subtract the mean of each row of a matrix is: 4.25\n"
     ]
    }
   ],
   "source": [
    "ar = np.array([[1,2,3,4],[4,5,6,7],[4,8,9,7],[5,7,9,12]])\n",
    "print(ar)\n",
    "m = 0\n",
    "for i in ar:\n",
    "    me = np.mean(i)\n",
    "    v = np.mean(i) - m \n",
    "    m = v\n",
    "     \n",
    "print('Subtract the mean of each row of a matrix is:',v)"
   ]
  },
  {
   "cell_type": "markdown",
   "metadata": {},
   "source": [
    "# 11.Consider a given vector, how to add 1 to each element indexed by a second vector (be careful with repeated indices)? "
   ]
  },
  {
   "cell_type": "code",
   "execution_count": 13,
   "metadata": {},
   "outputs": [
    {
     "name": "stdout",
     "output_type": "stream",
     "text": [
      "[1. 1. 1. 1. 1. 1. 1. 1. 1. 1.]\n",
      "[1 9 0 6 2 3 8 0 3 1 4 8 2 4 5 8 5 7 6 8]\n",
      "After  add 1 to each element indexed by a second vector:\n",
      " [3. 3. 3. 3. 3. 3. 3. 2. 5. 2.]\n"
     ]
    }
   ],
   "source": [
    "Z = np.ones(10)\n",
    "print(Z)\n",
    "I = np.random.randint(0,len(Z),20)\n",
    "print(I)\n",
    "Z += np.bincount(I, minlength=len(Z))\n",
    "print('After  add 1 to each element indexed by a second vector:\\n',Z)"
   ]
  },
  {
   "cell_type": "markdown",
   "metadata": {},
   "source": [
    "# 12.How to get the diagonal of a dot product?"
   ]
  },
  {
   "cell_type": "code",
   "execution_count": 14,
   "metadata": {},
   "outputs": [
    {
     "name": "stdout",
     "output_type": "stream",
     "text": [
      "[[3 4 6]\n",
      " [7 8 4]\n",
      " [6 4 8]] \n",
      "\n",
      " [[2 1 4]\n",
      " [2 2 1]\n",
      " [2 0 0]]\n",
      "\n",
      " [[26 11 16]\n",
      " [38 23 36]\n",
      " [36 14 28]]\n",
      "Diagonal of a dot product is:  [26 23 28]\n"
     ]
    }
   ],
   "source": [
    "ar1 = np.random.randint(0,10,(3,3))\n",
    "ar2 = np.random.randint(0,10,(3,3))\n",
    "print(ar1,'\\n\\n', ar2)\n",
    "dotp = np.dot(ar1,ar2)\n",
    "print('\\n',dotp)\n",
    "print('Diagonal of a dot product is: ', np.diag(dotp))"
   ]
  },
  {
   "cell_type": "markdown",
   "metadata": {},
   "source": [
    "# 13.How to find the most frequent value in an array?"
   ]
  },
  {
   "cell_type": "code",
   "execution_count": 15,
   "metadata": {},
   "outputs": [
    {
     "name": "stdout",
     "output_type": "stream",
     "text": [
      "[6 2 5 6 1 8 9 2 2 7 5 3 1 3 7 5 9 4 8 7 4 1 1 8 4 1 6 8 1 7 7 4 2 3 5 4 9\n",
      " 8 1 4 5 2 8 1 5 3 7 9 1 9]\n",
      "1\n"
     ]
    }
   ],
   "source": [
    "from statistics import mode\n",
    "ar = np.random.randint(1,10,50)\n",
    "print(ar)\n",
    "mf = mode(ar)\n",
    "print(mf)               "
   ]
  },
  {
   "cell_type": "markdown",
   "metadata": {},
   "source": [
    "# 14.How to get the n largest values of an array"
   ]
  },
  {
   "cell_type": "code",
   "execution_count": 16,
   "metadata": {},
   "outputs": [
    {
     "name": "stdout",
     "output_type": "stream",
     "text": [
      "Original array:\n",
      "[ 0  1  2  3  4  5  6  7  8  9 10 11 12 13 14 15 16 17 18 19 20 21 22 23\n",
      " 24]\n",
      "[20 21 22 23 24]\n"
     ]
    }
   ],
   "source": [
    "x = np.arange(25)\n",
    "print(\"Original array:\")\n",
    "print(x)\n",
    "np.random.shuffle(x)\n",
    "n = 5\n",
    "print (x[np.argsort(x)[-n:]])"
   ]
  },
  {
   "cell_type": "markdown",
   "metadata": {},
   "source": [
    "# 15.How to create a record array from a regular array?"
   ]
  },
  {
   "cell_type": "code",
   "execution_count": 17,
   "metadata": {},
   "outputs": [
    {
     "name": "stdout",
     "output_type": "stream",
     "text": [
      "Original Regular array: \n",
      " [[\"Let's\" '8.9' '7']\n",
      " ['Upgrade' '4.4' '2']]\n",
      "Created recorded array: \n",
      " [(b\"Let's\", 8.9, 7) (b'Upgrade', 4.4, 2)]\n"
     ]
    }
   ],
   "source": [
    "Z = np.array([(\"Let's\", 8.9, 7),\n",
    "              (\"Upgrade\", 4.4, 2)])\n",
    "R = np.core.records.fromarrays(Z.T,\n",
    "                               names='col1, col2, col3',\n",
    "                               formats = 'S8, f8, i8')\n",
    "print('Original Regular array: \\n',Z)\n",
    "print('Created recorded array: \\n',R)"
   ]
  },
  {
   "cell_type": "code",
   "execution_count": null,
   "metadata": {},
   "outputs": [],
   "source": []
  }
 ],
 "metadata": {
  "kernelspec": {
   "display_name": "Python 3",
   "language": "python",
   "name": "python3"
  },
  "language_info": {
   "codemirror_mode": {
    "name": "ipython",
    "version": 3
   },
   "file_extension": ".py",
   "mimetype": "text/x-python",
   "name": "python",
   "nbconvert_exporter": "python",
   "pygments_lexer": "ipython3",
   "version": "3.7.4"
  },
  "toc": {
   "base_numbering": 1,
   "nav_menu": {},
   "number_sections": true,
   "sideBar": true,
   "skip_h1_title": false,
   "title_cell": "Table of Contents",
   "title_sidebar": "Contents",
   "toc_cell": false,
   "toc_position": {},
   "toc_section_display": true,
   "toc_window_display": false
  }
 },
 "nbformat": 4,
 "nbformat_minor": 2
}
